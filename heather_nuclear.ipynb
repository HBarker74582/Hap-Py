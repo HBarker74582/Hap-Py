{
 "cells": [
  {
   "cell_type": "markdown",
   "metadata": {},
   "source": [
    "# Previewing Nobel Data"
   ]
  },
  {
   "cell_type": "code",
   "execution_count": 38,
   "metadata": {},
   "outputs": [],
   "source": [
    "import pandas as pd\n",
    "import numpy as np"
   ]
  },
  {
   "cell_type": "code",
   "execution_count": 39,
   "metadata": {},
   "outputs": [],
   "source": [
    "file = \"Nuclear_Data.csv\"\n",
    "nuclear = pd.read_csv(file)\n",
    "\n",
    "\n"
   ]
  },
  {
   "cell_type": "code",
   "execution_count": 41,
   "metadata": {},
   "outputs": [
    {
     "data": {
      "text/html": [
       "<div>\n",
       "<style scoped>\n",
       "    .dataframe tbody tr th:only-of-type {\n",
       "        vertical-align: middle;\n",
       "    }\n",
       "\n",
       "    .dataframe tbody tr th {\n",
       "        vertical-align: top;\n",
       "    }\n",
       "\n",
       "    .dataframe thead th {\n",
       "        text-align: right;\n",
       "    }\n",
       "</style>\n",
       "<table border=\"1\" class=\"dataframe\">\n",
       "  <thead>\n",
       "    <tr style=\"text-align: right;\">\n",
       "      <th></th>\n",
       "      <th>FID</th>\n",
       "      <th>Region</th>\n",
       "      <th>Country</th>\n",
       "      <th>Plant</th>\n",
       "      <th>NumReactor</th>\n",
       "      <th>Latitude</th>\n",
       "      <th>Longitude</th>\n",
       "    </tr>\n",
       "  </thead>\n",
       "  <tbody>\n",
       "    <tr>\n",
       "      <th>0</th>\n",
       "      <td>0</td>\n",
       "      <td>Europe - Western</td>\n",
       "      <td>SWEDEN</td>\n",
       "      <td>AGESTA</td>\n",
       "      <td>1</td>\n",
       "      <td>59.206022</td>\n",
       "      <td>18.082872</td>\n",
       "    </tr>\n",
       "    <tr>\n",
       "      <th>1</th>\n",
       "      <td>1</td>\n",
       "      <td>Europe - Western</td>\n",
       "      <td>SPAIN</td>\n",
       "      <td>ALMARAZ</td>\n",
       "      <td>2</td>\n",
       "      <td>39.808100</td>\n",
       "      <td>-5.696940</td>\n",
       "    </tr>\n",
       "    <tr>\n",
       "      <th>2</th>\n",
       "      <td>2</td>\n",
       "      <td>America - Latin</td>\n",
       "      <td>BRAZIL</td>\n",
       "      <td>ANGRA</td>\n",
       "      <td>3</td>\n",
       "      <td>-23.007857</td>\n",
       "      <td>-44.458098</td>\n",
       "    </tr>\n",
       "    <tr>\n",
       "      <th>3</th>\n",
       "      <td>3</td>\n",
       "      <td>America - Northern</td>\n",
       "      <td>UNITED STATES OF AMERICA</td>\n",
       "      <td>ARKANSAS ONE</td>\n",
       "      <td>2</td>\n",
       "      <td>35.310320</td>\n",
       "      <td>-93.231289</td>\n",
       "    </tr>\n",
       "    <tr>\n",
       "      <th>4</th>\n",
       "      <td>4</td>\n",
       "      <td>Europe - Western</td>\n",
       "      <td>SPAIN</td>\n",
       "      <td>ASCO</td>\n",
       "      <td>2</td>\n",
       "      <td>41.200000</td>\n",
       "      <td>0.566670</td>\n",
       "    </tr>\n",
       "  </tbody>\n",
       "</table>\n",
       "</div>"
      ],
      "text/plain": [
       "   FID              Region                   Country         Plant  \\\n",
       "0    0    Europe - Western                    SWEDEN        AGESTA   \n",
       "1    1    Europe - Western                     SPAIN       ALMARAZ   \n",
       "2    2     America - Latin                    BRAZIL         ANGRA   \n",
       "3    3  America - Northern  UNITED STATES OF AMERICA  ARKANSAS ONE   \n",
       "4    4    Europe - Western                     SPAIN          ASCO   \n",
       "\n",
       "   NumReactor   Latitude  Longitude  \n",
       "0           1  59.206022  18.082872  \n",
       "1           2  39.808100  -5.696940  \n",
       "2           3 -23.007857 -44.458098  \n",
       "3           2  35.310320 -93.231289  \n",
       "4           2  41.200000   0.566670  "
      ]
     },
     "execution_count": 41,
     "metadata": {},
     "output_type": "execute_result"
    }
   ],
   "source": [
    "nuclear.head()\n",
    "\n",
    "\n"
   ]
  },
  {
   "cell_type": "code",
   "execution_count": 48,
   "metadata": {},
   "outputs": [
    {
     "data": {
      "text/plain": [
       "643"
      ]
     },
     "execution_count": 48,
     "metadata": {},
     "output_type": "execute_result"
    }
   ],
   "source": [
    "\n",
    "\n",
    "countries = nuclear[\"Country\"].unique\n",
    "countries_count = nuclear[\"Country\"].value_counts()\n",
    "reactor_count = nuclear[\"NumReactor\"].value_counts()\n",
    "\n",
    "nunclear_sites = nuclear[\"NumReactor\"].sum()\n",
    "\n",
    "nunclear_sites"
   ]
  },
  {
   "cell_type": "code",
   "execution_count": null,
   "metadata": {},
   "outputs": [],
   "source": []
  }
 ],
 "metadata": {
  "kernelspec": {
   "display_name": "Python 3",
   "language": "python",
   "name": "python3"
  },
  "language_info": {
   "codemirror_mode": {
    "name": "ipython",
    "version": 3
   },
   "file_extension": ".py",
   "mimetype": "text/x-python",
   "name": "python",
   "nbconvert_exporter": "python",
   "pygments_lexer": "ipython3",
   "version": "3.7.3"
  }
 },
 "nbformat": 4,
 "nbformat_minor": 2
}
