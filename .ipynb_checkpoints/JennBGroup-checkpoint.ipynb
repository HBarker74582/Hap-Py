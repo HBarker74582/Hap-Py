{
 "cells": [
  {
   "cell_type": "code",
   "execution_count": 21,
   "metadata": {},
   "outputs": [],
   "source": [
    "# declare variables\n",
    "import pandas as pd\n",
    "import numpy as np\n",
    "import matplotlib.pyplot as plt\n",
    "import time \n",
    "import requests\n",
    "import json\n",
    "from pprint import pprint\n",
    "from config import api_key"
   ]
  },
  {
   "cell_type": "code",
   "execution_count": 22,
   "metadata": {},
   "outputs": [
    {
     "name": "stdout",
     "output_type": "stream",
     "text": [
      "    LOCATION     Country DESC         Description    SEX    Sex    AGE    Age  \\\n",
      "0        AUS   Australia  UPW         Unpaid work  TOTAL  Total  15_64  15-64   \n",
      "1        AUS   Australia  UPW         Unpaid work  WOMEN  Women  15_64  15-64   \n",
      "2        AUS   Australia  UPW         Unpaid work    MEN    Men  15_64  15-64   \n",
      "3        AUT     Austria  UPW         Unpaid work  TOTAL  Total  15_64  15-64   \n",
      "4        AUT     Austria  UPW         Unpaid work  WOMEN  Women  15_64  15-64   \n",
      "5        AUT     Austria  UPW         Unpaid work    MEN    Men  15_64  15-64   \n",
      "6        BEL     Belgium  UPW         Unpaid work  TOTAL  Total  15_64  15-64   \n",
      "7        BEL     Belgium  UPW         Unpaid work  WOMEN  Women  15_64  15-64   \n",
      "8        BEL     Belgium  UPW         Unpaid work    MEN    Men  15_64  15-64   \n",
      "9        CAN      Canada  UPW         Unpaid work  TOTAL  Total  15_64  15-64   \n",
      "10       CAN      Canada  UPW         Unpaid work  WOMEN  Women  15_64  15-64   \n",
      "11       CAN      Canada  UPW         Unpaid work    MEN    Men  15_64  15-64   \n",
      "12       DNK     Denmark  UPW         Unpaid work  TOTAL  Total  15_64  15-64   \n",
      "13       DNK     Denmark  UPW         Unpaid work  WOMEN  Women  15_64  15-64   \n",
      "14       DNK     Denmark  UPW         Unpaid work    MEN    Men  15_64  15-64   \n",
      "15       FIN     Finland  UPW         Unpaid work  TOTAL  Total  15_64  15-64   \n",
      "16       FIN     Finland  UPW         Unpaid work  WOMEN  Women  15_64  15-64   \n",
      "17       FIN     Finland  UPW         Unpaid work    MEN    Men  15_64  15-64   \n",
      "18       FRA      France  UPW         Unpaid work  TOTAL  Total  15_64  15-64   \n",
      "19       FRA      France  UPW         Unpaid work  WOMEN  Women  15_64  15-64   \n",
      "20       FRA      France  UPW         Unpaid work    MEN    Men  15_64  15-64   \n",
      "21       DEU     Germany  UPW         Unpaid work  TOTAL  Total  15_64  15-64   \n",
      "22       DEU     Germany  UPW         Unpaid work  WOMEN  Women  15_64  15-64   \n",
      "23       DEU     Germany  UPW         Unpaid work    MEN    Men  15_64  15-64   \n",
      "24       GRC      Greece  UPW         Unpaid work  TOTAL  Total  15_64  15-64   \n",
      "25       GRC      Greece  UPW         Unpaid work  WOMEN  Women  15_64  15-64   \n",
      "26       GRC      Greece  UPW         Unpaid work    MEN    Men  15_64  15-64   \n",
      "27       HUN     Hungary  UPW         Unpaid work  TOTAL  Total  15_64  15-64   \n",
      "28       HUN     Hungary  UPW         Unpaid work  WOMEN  Women  15_64  15-64   \n",
      "29       HUN     Hungary  UPW         Unpaid work    MEN    Men  15_64  15-64   \n",
      "..       ...         ...  ...                 ...    ...    ...    ...    ...   \n",
      "465      LUX  Luxembourg  UPW         Unpaid work  TOTAL  Total  15_64  15-64   \n",
      "466      LUX  Luxembourg  UPW         Unpaid work  WOMEN  Women  15_64  15-64   \n",
      "467      LUX  Luxembourg  UPW         Unpaid work    MEN    Men  15_64  15-64   \n",
      "468      LTU   Lithuania  UPW         Unpaid work  TOTAL  Total  15_64  15-64   \n",
      "469      LTU   Lithuania  UPW         Unpaid work  WOMEN  Women  15_64  15-64   \n",
      "470      LTU   Lithuania  UPW         Unpaid work    MEN    Men  15_64  15-64   \n",
      "471      LUX  Luxembourg  PCA       Personal care  TOTAL  Total  15_64  15-64   \n",
      "472      LUX  Luxembourg  PCA       Personal care  WOMEN  Women  15_64  15-64   \n",
      "473      LUX  Luxembourg  PCA       Personal care    MEN    Men  15_64  15-64   \n",
      "474      LTU   Lithuania  PCA       Personal care  TOTAL  Total  15_64  15-64   \n",
      "475      LTU   Lithuania  PCA       Personal care  WOMEN  Women  15_64  15-64   \n",
      "476      LTU   Lithuania  PCA       Personal care    MEN    Men  15_64  15-64   \n",
      "477      LUX  Luxembourg  LEI             Leisure  TOTAL  Total  15_64  15-64   \n",
      "478      LUX  Luxembourg  LEI             Leisure  WOMEN  Women  15_64  15-64   \n",
      "479      LUX  Luxembourg  LEI             Leisure    MEN    Men  15_64  15-64   \n",
      "480      LTU   Lithuania  LEI             Leisure  TOTAL  Total  15_64  15-64   \n",
      "481      LTU   Lithuania  LEI             Leisure  WOMEN  Women  15_64  15-64   \n",
      "482      LTU   Lithuania  LEI             Leisure    MEN    Men  15_64  15-64   \n",
      "483      LUX  Luxembourg  OTH               Other  TOTAL  Total  15_64  15-64   \n",
      "484      LUX  Luxembourg  OTH               Other  WOMEN  Women  15_64  15-64   \n",
      "485      LUX  Luxembourg  OTH               Other    MEN    Men  15_64  15-64   \n",
      "486      LTU   Lithuania  OTH               Other  TOTAL  Total  15_64  15-64   \n",
      "487      LTU   Lithuania  OTH               Other  WOMEN  Women  15_64  15-64   \n",
      "488      LTU   Lithuania  OTH               Other    MEN    Men  15_64  15-64   \n",
      "489      LUX  Luxembourg  PAW  Paid work or study  TOTAL  Total  15_64  15-64   \n",
      "490      LUX  Luxembourg  PAW  Paid work or study  WOMEN  Women  15_64  15-64   \n",
      "491      LUX  Luxembourg  PAW  Paid work or study    MEN    Men  15_64  15-64   \n",
      "492      LTU   Lithuania  PAW  Paid work or study  TOTAL  Total  15_64  15-64   \n",
      "493      LTU   Lithuania  PAW  Paid work or study  WOMEN  Women  15_64  15-64   \n",
      "494      LTU   Lithuania  PAW  Paid work or study    MEN    Men  15_64  15-64   \n",
      "\n",
      "      T         Time       Value Flag Codes                      Flags  \n",
      "0    LY  Latest year  243.168870          D  Difference in methodology  \n",
      "1    LY  Latest year  311.000000          D  Difference in methodology  \n",
      "2    LY  Latest year  171.595830          D  Difference in methodology  \n",
      "3    LY  Latest year  202.000000        NaN                        NaN  \n",
      "4    LY  Latest year  269.172000        NaN                        NaN  \n",
      "5    LY  Latest year  135.282970        NaN                        NaN  \n",
      "6    LY  Latest year  191.820160        NaN                        NaN  \n",
      "7    LY  Latest year  237.322970        NaN                        NaN  \n",
      "8    LY  Latest year  144.172380        NaN                        NaN  \n",
      "9    LY  Latest year  186.000000        NaN                        NaN  \n",
      "10   LY  Latest year  223.656400        NaN                        NaN  \n",
      "11   LY  Latest year  148.137890        NaN                        NaN  \n",
      "12   LY  Latest year  216.627330        NaN                        NaN  \n",
      "13   LY  Latest year  242.808720        NaN                        NaN  \n",
      "14   LY  Latest year  186.136080        NaN                        NaN  \n",
      "15   LY  Latest year  196.877150        NaN                        NaN  \n",
      "16   LY  Latest year  235.769470        NaN                        NaN  \n",
      "17   LY  Latest year  157.464920        NaN                        NaN  \n",
      "18   LY  Latest year  181.098560        NaN                        NaN  \n",
      "19   LY  Latest year  224.030850        NaN                        NaN  \n",
      "20   LY  Latest year  134.939450        NaN                        NaN  \n",
      "21   LY  Latest year  195.931030        NaN                        NaN  \n",
      "22   LY  Latest year  242.278380        NaN                        NaN  \n",
      "23   LY  Latest year  150.432010        NaN                        NaN  \n",
      "24   LY  Latest year  180.201160        NaN                        NaN  \n",
      "25   LY  Latest year  259.481480        NaN                        NaN  \n",
      "26   LY  Latest year   95.084076        NaN                        NaN  \n",
      "27   LY  Latest year  229.158950        NaN                        NaN  \n",
      "28   LY  Latest year  293.767330        NaN                        NaN  \n",
      "29   LY  Latest year  162.341050        NaN                        NaN  \n",
      "..   ..          ...         ...        ...                        ...  \n",
      "465  LY  Latest year  179.155610        NaN                        NaN  \n",
      "466  LY  Latest year  239.617430        NaN                        NaN  \n",
      "467  LY  Latest year  121.075180        NaN                        NaN  \n",
      "468  LY  Latest year  224.471330          D  Difference in methodology  \n",
      "469  LY  Latest year  291.951660          D  Difference in methodology  \n",
      "470  LY  Latest year  151.610810          D  Difference in methodology  \n",
      "471  LY  Latest year  685.668210        NaN                        NaN  \n",
      "472  LY  Latest year  694.012450        NaN                        NaN  \n",
      "473  LY  Latest year  676.863400        NaN                        NaN  \n",
      "474  LY  Latest year  645.538640          D  Difference in methodology  \n",
      "475  LY  Latest year  644.797670          D  Difference in methodology  \n",
      "476  LY  Latest year  644.323490          D  Difference in methodology  \n",
      "477  LY  Latest year  276.385710        NaN                        NaN  \n",
      "478  LY  Latest year  253.023220        NaN                        NaN  \n",
      "479  LY  Latest year  299.041380        NaN                        NaN  \n",
      "480  LY  Latest year  246.606800          D  Difference in methodology  \n",
      "481  LY  Latest year  215.298860          D  Difference in methodology  \n",
      "482  LY  Latest year  282.197850          D  Difference in methodology  \n",
      "483  LY  Latest year   14.063417        NaN                        NaN  \n",
      "484  LY  Latest year   14.512388        NaN                        NaN  \n",
      "485  LY  Latest year   13.025016        NaN                        NaN  \n",
      "486  LY  Latest year    8.168073          D  Difference in methodology  \n",
      "487  LY  Latest year    8.694423          D  Difference in methodology  \n",
      "488  LY  Latest year    7.605141          D  Difference in methodology  \n",
      "489  LY  Latest year  284.688140        NaN                        NaN  \n",
      "490  LY  Latest year  238.866390        NaN                        NaN  \n",
      "491  LY  Latest year  329.995030        NaN                        NaN  \n",
      "492  LY  Latest year  315.215150          D  Difference in methodology  \n",
      "493  LY  Latest year  279.257390          D  Difference in methodology  \n",
      "494  LY  Latest year  354.262730          D  Difference in methodology  \n",
      "\n",
      "[495 rows x 13 columns]\n"
     ]
    }
   ],
   "source": [
    "country_data_df = pd.read_csv(\"TIME_USE.csv\")\n",
    "\n",
    "# print(countrydata).head()\n",
    "\n",
    "print (country_data_df)\n",
    "\n"
   ]
  },
  {
   "cell_type": "code",
   "execution_count": 23,
   "metadata": {
    "scrolled": true
   },
   "outputs": [
    {
     "name": "stdout",
     "output_type": "stream",
     "text": [
      "        Country         Description    SEX       Value\n",
      "0     Australia         Unpaid work  TOTAL  243.168870\n",
      "1     Australia         Unpaid work  WOMEN  311.000000\n",
      "2     Australia         Unpaid work    MEN  171.595830\n",
      "3       Austria         Unpaid work  TOTAL  202.000000\n",
      "4       Austria         Unpaid work  WOMEN  269.172000\n",
      "5       Austria         Unpaid work    MEN  135.282970\n",
      "6       Belgium         Unpaid work  TOTAL  191.820160\n",
      "7       Belgium         Unpaid work  WOMEN  237.322970\n",
      "8       Belgium         Unpaid work    MEN  144.172380\n",
      "9        Canada         Unpaid work  TOTAL  186.000000\n",
      "10       Canada         Unpaid work  WOMEN  223.656400\n",
      "11       Canada         Unpaid work    MEN  148.137890\n",
      "12      Denmark         Unpaid work  TOTAL  216.627330\n",
      "13      Denmark         Unpaid work  WOMEN  242.808720\n",
      "14      Denmark         Unpaid work    MEN  186.136080\n",
      "15      Finland         Unpaid work  TOTAL  196.877150\n",
      "16      Finland         Unpaid work  WOMEN  235.769470\n",
      "17      Finland         Unpaid work    MEN  157.464920\n",
      "18       France         Unpaid work  TOTAL  181.098560\n",
      "19       France         Unpaid work  WOMEN  224.030850\n",
      "20       France         Unpaid work    MEN  134.939450\n",
      "21      Germany         Unpaid work  TOTAL  195.931030\n",
      "22      Germany         Unpaid work  WOMEN  242.278380\n",
      "23      Germany         Unpaid work    MEN  150.432010\n",
      "24       Greece         Unpaid work  TOTAL  180.201160\n",
      "25       Greece         Unpaid work  WOMEN  259.481480\n",
      "26       Greece         Unpaid work    MEN   95.084076\n",
      "27      Hungary         Unpaid work  TOTAL  229.158950\n",
      "28      Hungary         Unpaid work  WOMEN  293.767330\n",
      "29      Hungary         Unpaid work    MEN  162.341050\n",
      "..          ...                 ...    ...         ...\n",
      "465  Luxembourg         Unpaid work  TOTAL  179.155610\n",
      "466  Luxembourg         Unpaid work  WOMEN  239.617430\n",
      "467  Luxembourg         Unpaid work    MEN  121.075180\n",
      "468   Lithuania         Unpaid work  TOTAL  224.471330\n",
      "469   Lithuania         Unpaid work  WOMEN  291.951660\n",
      "470   Lithuania         Unpaid work    MEN  151.610810\n",
      "471  Luxembourg       Personal care  TOTAL  685.668210\n",
      "472  Luxembourg       Personal care  WOMEN  694.012450\n",
      "473  Luxembourg       Personal care    MEN  676.863400\n",
      "474   Lithuania       Personal care  TOTAL  645.538640\n",
      "475   Lithuania       Personal care  WOMEN  644.797670\n",
      "476   Lithuania       Personal care    MEN  644.323490\n",
      "477  Luxembourg             Leisure  TOTAL  276.385710\n",
      "478  Luxembourg             Leisure  WOMEN  253.023220\n",
      "479  Luxembourg             Leisure    MEN  299.041380\n",
      "480   Lithuania             Leisure  TOTAL  246.606800\n",
      "481   Lithuania             Leisure  WOMEN  215.298860\n",
      "482   Lithuania             Leisure    MEN  282.197850\n",
      "483  Luxembourg               Other  TOTAL   14.063417\n",
      "484  Luxembourg               Other  WOMEN   14.512388\n",
      "485  Luxembourg               Other    MEN   13.025016\n",
      "486   Lithuania               Other  TOTAL    8.168073\n",
      "487   Lithuania               Other  WOMEN    8.694423\n",
      "488   Lithuania               Other    MEN    7.605141\n",
      "489  Luxembourg  Paid work or study  TOTAL  284.688140\n",
      "490  Luxembourg  Paid work or study  WOMEN  238.866390\n",
      "491  Luxembourg  Paid work or study    MEN  329.995030\n",
      "492   Lithuania  Paid work or study  TOTAL  315.215150\n",
      "493   Lithuania  Paid work or study  WOMEN  279.257390\n",
      "494   Lithuania  Paid work or study    MEN  354.262730\n",
      "\n",
      "[495 rows x 4 columns]\n"
     ]
    }
   ],
   "source": [
    "#extract data for leisure time for all countries\n",
    "leisure_time_pd = (\"LeisureTime\")\n",
    "leisure_time_pd = country_data_df[[\"Country\", \"Description\", \"SEX\", \"Value\"]]\n",
    "print (leisure_time_pd)"
   ]
  },
  {
   "cell_type": "code",
   "execution_count": 24,
   "metadata": {
    "scrolled": true
   },
   "outputs": [
    {
     "name": "stdout",
     "output_type": "stream",
     "text": [
      "                          Country         Description    SEX       Value\n",
      "0                       Australia         Unpaid work  TOTAL  243.168870\n",
      "3                         Austria         Unpaid work  TOTAL  202.000000\n",
      "6                         Belgium         Unpaid work  TOTAL  191.820160\n",
      "9                          Canada         Unpaid work  TOTAL  186.000000\n",
      "12                        Denmark         Unpaid work  TOTAL  216.627330\n",
      "15                        Finland         Unpaid work  TOTAL  196.877150\n",
      "18                         France         Unpaid work  TOTAL  181.098560\n",
      "21                        Germany         Unpaid work  TOTAL  195.931030\n",
      "24                         Greece         Unpaid work  TOTAL  180.201160\n",
      "27                        Hungary         Unpaid work  TOTAL  229.158950\n",
      "30                        Ireland         Unpaid work  TOTAL  212.557510\n",
      "33                          Italy         Unpaid work  TOTAL  219.038740\n",
      "36                          Japan         Unpaid work  TOTAL  132.016980\n",
      "39                          Korea         Unpaid work  TOTAL  131.706420\n",
      "42                         Mexico         Unpaid work  TOTAL  269.817410\n",
      "45                    Netherlands         Unpaid work  TOTAL  185.561390\n",
      "48                    New Zealand         Unpaid work  TOTAL  204.000000\n",
      "51                         Norway         Unpaid work  TOTAL  195.984250\n",
      "54                         Poland         Unpaid work  TOTAL  225.918700\n",
      "57                       Portugal         Unpaid work  TOTAL  222.545460\n",
      "60                          Spain         Unpaid work  TOTAL  216.729110\n",
      "63                         Sweden         Unpaid work  TOTAL  196.499180\n",
      "66                         Turkey         Unpaid work  TOTAL  186.089490\n",
      "69                 United Kingdom         Unpaid work  TOTAL  194.527880\n",
      "72                  United States         Unpaid work  TOTAL  195.690080\n",
      "75   China (People's Republic of)         Unpaid work  TOTAL  163.886180\n",
      "78                        Estonia         Unpaid work  TOTAL  207.682310\n",
      "81                          India         Unpaid work  TOTAL  191.146150\n",
      "84                         Latvia         Unpaid work  TOTAL  196.074540\n",
      "87                       Slovenia         Unpaid work  TOTAL  230.679610\n",
      "..                            ...                 ...    ...         ...\n",
      "405                         Italy  Paid work or study  TOTAL  176.709060\n",
      "408                         Japan  Paid work or study  TOTAL  362.654600\n",
      "411                         Korea  Paid work or study  TOTAL  344.452360\n",
      "414                        Mexico  Paid work or study  TOTAL  358.630000\n",
      "417                   Netherlands  Paid work or study  TOTAL  242.787030\n",
      "420                   New Zealand  Paid work or study  TOTAL  270.000000\n",
      "423                        Norway  Paid work or study  TOTAL  241.265060\n",
      "426                        Poland  Paid work or study  TOTAL  259.587190\n",
      "429                      Portugal  Paid work or study  TOTAL  295.048950\n",
      "432                         Spain  Paid work or study  TOTAL  202.004730\n",
      "435                        Sweden  Paid work or study  TOTAL  293.406860\n",
      "438                        Turkey  Paid work or study  TOTAL  246.315990\n",
      "441                United Kingdom  Paid work or study  TOTAL  262.264920\n",
      "444                 United States  Paid work or study  TOTAL  289.417330\n",
      "447  China (People's Republic of)  Paid work or study  TOTAL  339.764040\n",
      "450                       Estonia  Paid work or study  TOTAL  255.577360\n",
      "453                         India  Paid work or study  TOTAL  294.979400\n",
      "456                        Latvia  Paid work or study  TOTAL  329.938420\n",
      "459                      Slovenia  Paid work or study  TOTAL  264.632450\n",
      "462                  South Africa  Paid work or study  TOTAL  240.576070\n",
      "465                    Luxembourg         Unpaid work  TOTAL  179.155610\n",
      "468                     Lithuania         Unpaid work  TOTAL  224.471330\n",
      "471                    Luxembourg       Personal care  TOTAL  685.668210\n",
      "474                     Lithuania       Personal care  TOTAL  645.538640\n",
      "477                    Luxembourg             Leisure  TOTAL  276.385710\n",
      "480                     Lithuania             Leisure  TOTAL  246.606800\n",
      "483                    Luxembourg               Other  TOTAL   14.063417\n",
      "486                     Lithuania               Other  TOTAL    8.168073\n",
      "489                    Luxembourg  Paid work or study  TOTAL  284.688140\n",
      "492                     Lithuania  Paid work or study  TOTAL  315.215150\n",
      "\n",
      "[165 rows x 4 columns]\n"
     ]
    }
   ],
   "source": [
    "new_df = leisure_time_pd[leisure_time_pd['SEX'] == 'TOTAL']\n",
    "print (new_df)\n"
   ]
  },
  {
   "cell_type": "code",
   "execution_count": 25,
   "metadata": {},
   "outputs": [
    {
     "name": "stdout",
     "output_type": "stream",
     "text": [
      "                          Country Description    SEX      Value\n",
      "186                     Australia     Leisure  TOTAL  281.19528\n",
      "189                       Austria     Leisure  TOTAL  291.20932\n",
      "192                       Belgium     Leisure  TOTAL  339.35016\n",
      "195                        Canada     Leisure  TOTAL  278.93344\n",
      "198                       Denmark     Leisure  TOTAL  328.84482\n",
      "201                       Finland     Leisure  TOTAL  330.98871\n",
      "204                        France     Leisure  TOTAL  293.54263\n",
      "207                       Germany     Leisure  TOTAL  331.15182\n",
      "210                        Greece     Leisure  TOTAL  341.39120\n",
      "213                       Hungary     Leisure  TOTAL  281.34970\n",
      "216                       Ireland     Leisure  TOTAL  315.41565\n",
      "219                         Italy     Leisure  TOTAL  323.25861\n",
      "222                         Japan     Leisure  TOTAL  278.31256\n",
      "225                         Korea     Leisure  TOTAL  258.26019\n",
      "228                        Mexico     Leisure  TOTAL  177.71179\n",
      "231                   Netherlands     Leisure  TOTAL  314.76401\n",
      "234                   New Zealand     Leisure  TOTAL  301.00000\n",
      "237                        Norway     Leisure  TOTAL  368.24329\n",
      "240                        Poland     Leisure  TOTAL  286.15439\n",
      "243                      Portugal     Leisure  TOTAL  240.67133\n",
      "246                         Spain     Leisure  TOTAL  316.04926\n",
      "249                        Sweden     Leisure  TOTAL  321.48456\n",
      "252                        Turkey     Leisure  TOTAL  285.73074\n",
      "255                United Kingdom     Leisure  TOTAL  305.53094\n",
      "258                 United States     Leisure  TOTAL  286.83368\n",
      "261  China (People's Republic of)     Leisure  TOTAL  227.84178\n",
      "264                       Estonia     Leisure  TOTAL  309.40707\n",
      "267                         India     Leisure  TOTAL  253.99612\n",
      "270                        Latvia     Leisure  TOTAL  268.84131\n",
      "273                      Slovenia     Leisure  TOTAL  310.56866\n",
      "276                  South Africa     Leisure  TOTAL  305.89819\n",
      "477                    Luxembourg     Leisure  TOTAL  276.38571\n",
      "480                     Lithuania     Leisure  TOTAL  246.60680\n"
     ]
    }
   ],
   "source": [
    "next_df = new_df[new_df['Description'] == 'Leisure']\n",
    "print (next_df)"
   ]
  },
  {
   "cell_type": "code",
   "execution_count": 26,
   "metadata": {},
   "outputs": [],
   "source": [
    "# Set x axis and tick locations\n",
    "x_axis = np.arange(len(next_df))\n",
    "tick_locations = [value for value in x_axis]"
   ]
  },
  {
   "cell_type": "code",
   "execution_count": 27,
   "metadata": {},
   "outputs": [
    {
     "data": {
      "text/plain": [
       "Text(0, 0.5, 'Average Amount of Leisure Time in Minutes')"
      ]
     },
     "execution_count": 27,
     "metadata": {},
     "output_type": "execute_result"
    },
    {
     "data": {
      "image/png": "[encoded data removed]",
      "text/plain": [
       "<Figure size 1440x216 with 1 Axes>"
      ]
     },
     "metadata": {
      "needs_background": "light"
     },
     "output_type": "display_data"
    }
   ],
   "source": [
    "# Create a list indicating where to write x labels and set figure size to adjust for space\n",
    "plt.figure(figsize=(20,3))\n",
    "plt.bar(next_df[\"Country\"], next_df[\"Value\"], color='g', alpha=0.5, align=\"center\")\n",
    "plt.xticks(tick_locations, next_df[\"Country\"], rotation=\"vertical\")\n",
    "# Set a Title and labels\n",
    "plt.axis(\"tight\")\n",
    "plt.title(\"Leisure Time per Day\")\n",
    "plt.xlabel(\"Country\")\n",
    "plt.ylabel(\"Average Amount of Leisure Time in Minutes\")"
   ]
  },
  {
   "cell_type": "code",
   "execution_count": 28,
   "metadata": {},
   "outputs": [
    {
     "data": {
      "text/plain": [
       "<Figure size 432x288 with 0 Axes>"
      ]
     },
     "metadata": {},
     "output_type": "display_data"
    }
   ],
   "source": [
    "\n",
    "# Save the figure\n",
    "plt.savefig(\"Time_Images/Leisure_Time_per_Day.png\")\n",
    "\n",
    "# Show plot\n",
    "plt.show()"
   ]
  },
  {
   "cell_type": "code",
   "execution_count": 29,
   "metadata": {},
   "outputs": [
    {
     "data": {
      "text/html": [
       "<div>\n",
       "<style scoped>\n",
       "    .dataframe tbody tr th:only-of-type {\n",
       "        vertical-align: middle;\n",
       "    }\n",
       "\n",
       "    .dataframe tbody tr th {\n",
       "        vertical-align: top;\n",
       "    }\n",
       "\n",
       "    .dataframe thead th {\n",
       "        text-align: right;\n",
       "    }\n",
       "</style>\n",
       "<table border=\"1\" class=\"dataframe\">\n",
       "  <thead>\n",
       "    <tr style=\"text-align: right;\">\n",
       "      <th></th>\n",
       "      <th>Value</th>\n",
       "    </tr>\n",
       "  </thead>\n",
       "  <tbody>\n",
       "    <tr>\n",
       "      <th>count</th>\n",
       "      <td>33.000000</td>\n",
       "    </tr>\n",
       "    <tr>\n",
       "      <th>mean</th>\n",
       "      <td>293.240113</td>\n",
       "    </tr>\n",
       "    <tr>\n",
       "      <th>std</th>\n",
       "      <td>37.657237</td>\n",
       "    </tr>\n",
       "    <tr>\n",
       "      <th>min</th>\n",
       "      <td>177.711790</td>\n",
       "    </tr>\n",
       "    <tr>\n",
       "      <th>25%</th>\n",
       "      <td>278.312560</td>\n",
       "    </tr>\n",
       "    <tr>\n",
       "      <th>50%</th>\n",
       "      <td>293.542630</td>\n",
       "    </tr>\n",
       "    <tr>\n",
       "      <th>75%</th>\n",
       "      <td>316.049260</td>\n",
       "    </tr>\n",
       "    <tr>\n",
       "      <th>max</th>\n",
       "      <td>368.243290</td>\n",
       "    </tr>\n",
       "  </tbody>\n",
       "</table>\n",
       "</div>"
      ],
      "text/plain": [
       "            Value\n",
       "count   33.000000\n",
       "mean   293.240113\n",
       "std     37.657237\n",
       "min    177.711790\n",
       "25%    278.312560\n",
       "50%    293.542630\n",
       "75%    316.049260\n",
       "max    368.243290"
      ]
     },
     "execution_count": 29,
     "metadata": {},
     "output_type": "execute_result"
    }
   ],
   "source": [
    "next_df.describe()"
   ]
  },
  {
   "cell_type": "code",
   "execution_count": 30,
   "metadata": {},
   "outputs": [
    {
     "name": "stdout",
     "output_type": "stream",
     "text": [
      "                          Country  Description    SEX      Value\n",
      "0                       Australia  Unpaid work  TOTAL  243.16887\n",
      "3                         Austria  Unpaid work  TOTAL  202.00000\n",
      "6                         Belgium  Unpaid work  TOTAL  191.82016\n",
      "9                          Canada  Unpaid work  TOTAL  186.00000\n",
      "12                        Denmark  Unpaid work  TOTAL  216.62733\n",
      "15                        Finland  Unpaid work  TOTAL  196.87715\n",
      "18                         France  Unpaid work  TOTAL  181.09856\n",
      "21                        Germany  Unpaid work  TOTAL  195.93103\n",
      "24                         Greece  Unpaid work  TOTAL  180.20116\n",
      "27                        Hungary  Unpaid work  TOTAL  229.15895\n",
      "30                        Ireland  Unpaid work  TOTAL  212.55751\n",
      "33                          Italy  Unpaid work  TOTAL  219.03874\n",
      "36                          Japan  Unpaid work  TOTAL  132.01698\n",
      "39                          Korea  Unpaid work  TOTAL  131.70642\n",
      "42                         Mexico  Unpaid work  TOTAL  269.81741\n",
      "45                    Netherlands  Unpaid work  TOTAL  185.56139\n",
      "48                    New Zealand  Unpaid work  TOTAL  204.00000\n",
      "51                         Norway  Unpaid work  TOTAL  195.98425\n",
      "54                         Poland  Unpaid work  TOTAL  225.91870\n",
      "57                       Portugal  Unpaid work  TOTAL  222.54546\n",
      "60                          Spain  Unpaid work  TOTAL  216.72911\n",
      "63                         Sweden  Unpaid work  TOTAL  196.49918\n",
      "66                         Turkey  Unpaid work  TOTAL  186.08949\n",
      "69                 United Kingdom  Unpaid work  TOTAL  194.52788\n",
      "72                  United States  Unpaid work  TOTAL  195.69008\n",
      "75   China (People's Republic of)  Unpaid work  TOTAL  163.88618\n",
      "78                        Estonia  Unpaid work  TOTAL  207.68231\n",
      "81                          India  Unpaid work  TOTAL  191.14615\n",
      "84                         Latvia  Unpaid work  TOTAL  196.07454\n",
      "87                       Slovenia  Unpaid work  TOTAL  230.67961\n",
      "90                   South Africa  Unpaid work  TOTAL  182.28479\n",
      "465                    Luxembourg  Unpaid work  TOTAL  179.15561\n",
      "468                     Lithuania  Unpaid work  TOTAL  224.47133\n"
     ]
    }
   ],
   "source": [
    "next2_df = new_df[new_df['Description'] == 'Unpaid work']\n",
    "print (next2_df)"
   ]
  },
  {
   "cell_type": "code",
   "execution_count": 31,
   "metadata": {},
   "outputs": [
    {
     "data": {
      "text/html": [
       "<div>\n",
       "<style scoped>\n",
       "    .dataframe tbody tr th:only-of-type {\n",
       "        vertical-align: middle;\n",
       "    }\n",
       "\n",
       "    .dataframe tbody tr th {\n",
       "        vertical-align: top;\n",
       "    }\n",
       "\n",
       "    .dataframe thead th {\n",
       "        text-align: right;\n",
       "    }\n",
       "</style>\n",
       "<table border=\"1\" class=\"dataframe\">\n",
       "  <thead>\n",
       "    <tr style=\"text-align: right;\">\n",
       "      <th></th>\n",
       "      <th>Value</th>\n",
       "    </tr>\n",
       "  </thead>\n",
       "  <tbody>\n",
       "    <tr>\n",
       "      <th>count</th>\n",
       "      <td>33.000000</td>\n",
       "    </tr>\n",
       "    <tr>\n",
       "      <th>mean</th>\n",
       "      <td>199.604434</td>\n",
       "    </tr>\n",
       "    <tr>\n",
       "      <th>std</th>\n",
       "      <td>27.618020</td>\n",
       "    </tr>\n",
       "    <tr>\n",
       "      <th>min</th>\n",
       "      <td>131.706420</td>\n",
       "    </tr>\n",
       "    <tr>\n",
       "      <th>25%</th>\n",
       "      <td>186.000000</td>\n",
       "    </tr>\n",
       "    <tr>\n",
       "      <th>50%</th>\n",
       "      <td>196.074540</td>\n",
       "    </tr>\n",
       "    <tr>\n",
       "      <th>75%</th>\n",
       "      <td>216.729110</td>\n",
       "    </tr>\n",
       "    <tr>\n",
       "      <th>max</th>\n",
       "      <td>269.817410</td>\n",
       "    </tr>\n",
       "  </tbody>\n",
       "</table>\n",
       "</div>"
      ],
      "text/plain": [
       "            Value\n",
       "count   33.000000\n",
       "mean   199.604434\n",
       "std     27.618020\n",
       "min    131.706420\n",
       "25%    186.000000\n",
       "50%    196.074540\n",
       "75%    216.729110\n",
       "max    269.817410"
      ]
     },
     "execution_count": 31,
     "metadata": {},
     "output_type": "execute_result"
    }
   ],
   "source": [
    "next2_df.describe()"
   ]
  },
  {
   "cell_type": "code",
   "execution_count": 32,
   "metadata": {},
   "outputs": [],
   "source": [
    "# Set x axis and tick locations\n",
    "x_axis = np.arange(len(next2_df))\n",
    "tick_locations = [value for value in x_axis]"
   ]
  },
  {
   "cell_type": "code",
   "execution_count": 33,
   "metadata": {},
   "outputs": [
    {
     "data": {
      "text/plain": [
       "Text(0, 0.5, 'Average Amount of Unpaid Work Time in Minutes')"
      ]
     },
     "execution_count": 33,
     "metadata": {},
     "output_type": "execute_result"
    },
    {
     "data": {
      "image/png": "[encoded data removed]",
      "text/plain": [
       "<Figure size 1440x216 with 1 Axes>"
      ]
     },
     "metadata": {
      "needs_background": "light"
     },
     "output_type": "display_data"
    }
   ],
   "source": [
    "# Create a list indicating where to write x labels and set figure size to adjust for space\n",
    "plt.figure(figsize=(20,3))\n",
    "plt.bar(next2_df[\"Country\"], next2_df[\"Value\"], color='g', alpha=0.5, align=\"center\")\n",
    "plt.xticks(tick_locations, next2_df[\"Country\"], rotation=\"vertical\")\n",
    "# Set a Title and labels\n",
    "plt.title(\"Unpaid Work Time per Day\")\n",
    "plt.xlabel(\"Country\")\n",
    "plt.ylabel(\"Average Amount of Unpaid Work Time in Minutes\")"
   ]
  },
  {
   "cell_type": "code",
   "execution_count": 34,
   "metadata": {},
   "outputs": [
    {
     "data": {
      "text/plain": [
       "<Figure size 432x288 with 0 Axes>"
      ]
     },
     "metadata": {},
     "output_type": "display_data"
    }
   ],
   "source": [
    "# Save the figure\n",
    "plt.savefig(\"Time_Images/Unpaid_Work_Time_per_Day.png\")\n",
    "\n",
    "# Show plot\n",
    "plt.show()"
   ]
  },
  {
   "cell_type": "code",
   "execution_count": 35,
   "metadata": {},
   "outputs": [
    {
     "name": "stdout",
     "output_type": "stream",
     "text": [
      "                          Country    Description    SEX      Value\n",
      "93                      Australia  Personal care  TOTAL  657.45654\n",
      "96                        Austria  Personal care  TOTAL  632.00000\n",
      "99                        Belgium  Personal care  TOTAL  664.04633\n",
      "102                        Canada  Personal care  TOTAL  636.57739\n",
      "105                       Denmark  Personal care  TOTAL  659.35931\n",
      "108                       Finland  Personal care  TOTAL  640.48987\n",
      "111                        France  Personal care  TOTAL  752.24652\n",
      "114                       Germany  Personal care  TOTAL  648.02252\n",
      "117                        Greece  Personal care  TOTAL  684.60358\n",
      "120                       Hungary  Personal care  TOTAL  683.13916\n",
      "123                       Ireland  Personal care  TOTAL  615.70709\n",
      "126                         Italy  Personal care  TOTAL  707.80823\n",
      "129                         Japan  Personal care  TOTAL  620.03809\n",
      "132                         Korea  Personal care  TOTAL  677.84741\n",
      "135                        Mexico  Personal care  TOTAL  612.40674\n",
      "138                   Netherlands  Personal care  TOTAL  681.59064\n",
      "141                   New Zealand  Personal care  TOTAL  648.00000\n",
      "144                        Norway  Personal care  TOTAL  627.27295\n",
      "147                        Poland  Personal care  TOTAL  657.11884\n",
      "150                      Portugal  Personal care  TOTAL  675.69232\n",
      "153                         Spain  Personal care  TOTAL  691.79242\n",
      "156                        Sweden  Personal care  TOTAL  622.46954\n",
      "159                        Turkey  Personal care  TOTAL  681.79669\n",
      "162                United Kingdom  Personal care  TOTAL  645.20435\n",
      "165                 United States  Personal care  TOTAL  648.13776\n",
      "168  China (People's Republic of)  Personal care  TOTAL  693.51837\n",
      "171                       Estonia  Personal care  TOTAL  662.67316\n",
      "174                         India  Personal care  TOTAL  687.48993\n",
      "177                        Latvia  Personal care  TOTAL  641.29620\n",
      "180                      Slovenia  Personal care  TOTAL  628.12762\n",
      "183                  South Africa  Personal care  TOTAL  695.07886\n",
      "471                    Luxembourg  Personal care  TOTAL  685.66821\n",
      "474                     Lithuania  Personal care  TOTAL  645.53864\n"
     ]
    }
   ],
   "source": [
    "next3_df = new_df[new_df['Description'] == 'Personal care']\n",
    "print (next3_df)"
   ]
  },
  {
   "cell_type": "code",
   "execution_count": 36,
   "metadata": {},
   "outputs": [],
   "source": [
    "# Set x axis and tick locations\n",
    "x_axis = np.arange(len(next3_df))\n",
    "tick_locations = [value for value in x_axis]"
   ]
  },
  {
   "cell_type": "code",
   "execution_count": 37,
   "metadata": {},
   "outputs": [
    {
     "data": {
      "text/plain": [
       "Text(0, 0.5, 'Average Amount of Personal Care Time in Minutes')"
      ]
     },
     "execution_count": 37,
     "metadata": {},
     "output_type": "execute_result"
    },
    {
     "data": {
      "image/png": "[encoded data removed]",
      "text/plain": [
       "<Figure size 1440x216 with 1 Axes>"
      ]
     },
     "metadata": {
      "needs_background": "light"
     },
     "output_type": "display_data"
    }
   ],
   "source": [
    "# Create a list indicating where to write x labels and set figure size to adjust for space\n",
    "plt.figure(figsize=(20,3))\n",
    "plt.bar(next3_df[\"Country\"], next3_df[\"Value\"], color='g', alpha=0.5, align=\"center\")\n",
    "plt.xticks(tick_locations, next3_df[\"Country\"], rotation=\"vertical\")\n",
    "# Set a Title and labels\n",
    "plt.title(\"Personal Care Time per Day\")\n",
    "plt.xlabel(\"Country\")\n",
    "plt.ylabel(\"Average Amount of Personal Care Time in Minutes\")\n"
   ]
  },
  {
   "cell_type": "code",
   "execution_count": 38,
   "metadata": {},
   "outputs": [
    {
     "data": {
      "text/plain": [
       "<Figure size 432x288 with 0 Axes>"
      ]
     },
     "metadata": {},
     "output_type": "display_data"
    }
   ],
   "source": [
    "# Save the figure\n",
    "plt.savefig(\"Time_Images/Personal_Care_Time_per_Day.png\")\n",
    "\n",
    "# Show plot\n",
    "plt.show()"
   ]
  },
  {
   "cell_type": "code",
   "execution_count": 40,
   "metadata": {},
   "outputs": [
    {
     "data": {
      "text/html": [
       "<div>\n",
       "<style scoped>\n",
       "    .dataframe tbody tr th:only-of-type {\n",
       "        vertical-align: middle;\n",
       "    }\n",
       "\n",
       "    .dataframe tbody tr th {\n",
       "        vertical-align: top;\n",
       "    }\n",
       "\n",
       "    .dataframe thead th {\n",
       "        text-align: right;\n",
       "    }\n",
       "</style>\n",
       "<table border=\"1\" class=\"dataframe\">\n",
       "  <thead>\n",
       "    <tr style=\"text-align: right;\">\n",
       "      <th></th>\n",
       "      <th>Value</th>\n",
       "    </tr>\n",
       "  </thead>\n",
       "  <tbody>\n",
       "    <tr>\n",
       "      <th>count</th>\n",
       "      <td>33.000000</td>\n",
       "    </tr>\n",
       "    <tr>\n",
       "      <th>mean</th>\n",
       "      <td>660.915615</td>\n",
       "    </tr>\n",
       "    <tr>\n",
       "      <th>std</th>\n",
       "      <td>30.857979</td>\n",
       "    </tr>\n",
       "    <tr>\n",
       "      <th>min</th>\n",
       "      <td>612.406740</td>\n",
       "    </tr>\n",
       "    <tr>\n",
       "      <th>25%</th>\n",
       "      <td>640.489870</td>\n",
       "    </tr>\n",
       "    <tr>\n",
       "      <th>50%</th>\n",
       "      <td>657.456540</td>\n",
       "    </tr>\n",
       "    <tr>\n",
       "      <th>75%</th>\n",
       "      <td>683.139160</td>\n",
       "    </tr>\n",
       "    <tr>\n",
       "      <th>max</th>\n",
       "      <td>752.246520</td>\n",
       "    </tr>\n",
       "  </tbody>\n",
       "</table>\n",
       "</div>"
      ],
      "text/plain": [
       "            Value\n",
       "count   33.000000\n",
       "mean   660.915615\n",
       "std     30.857979\n",
       "min    612.406740\n",
       "25%    640.489870\n",
       "50%    657.456540\n",
       "75%    683.139160\n",
       "max    752.246520"
      ]
     },
     "execution_count": 40,
     "metadata": {},
     "output_type": "execute_result"
    }
   ],
   "source": [
    "next3_df.describe()"
   ]
  },
  {
   "cell_type": "code",
   "execution_count": 84,
   "metadata": {},
   "outputs": [
    {
     "name": "stdout",
     "output_type": "stream",
     "text": [
      "     Country         Description    SEX       Value\n",
      "15   Finland         Unpaid work  TOTAL  196.877150\n",
      "108  Finland       Personal care  TOTAL  640.489870\n",
      "201  Finland             Leisure  TOTAL  330.988710\n",
      "294  Finland               Other  TOTAL   42.547142\n",
      "387  Finland  Paid work or study  TOTAL  229.097000\n"
     ]
    }
   ],
   "source": [
    "next_df = new_df[new_df['Country'] == 'Finland']\n",
    "print (next_df)\n"
   ]
  },
  {
   "cell_type": "code",
   "execution_count": null,
   "metadata": {},
   "outputs": [],
   "source": [
    "plt.scatter(x_axis, urban_data, marker=\"o\", facecolors=\"lightblue\", edgecolors=\"black\")\n",
    "# rural = plt.scatter(rural_rides, rural_avg, marker=\"o\", s=rural_driver_count, facecolors=\"gold\", edgecolors=\"black\", alpha=0.5)\n",
    "# urban = plt.scatter(urban_rides, urban_avg, marker=\"o\", s=urban_driver_count/2, facecolors=\"lightsalmon\", edgecolors=\"black\", alpha=0.7 )\n",
    "# legend = plt.legend((urban, sub, rural), ('Urban', 'Suburban', 'Rural'),\n",
    "#             title=\"City Types\", fancybox=True, labelspacing=1)\n",
    "hap = plt.plot(x_axis, happy_data, marker=\"o\",color=\"red\", linewidth=1, label=\"Happy Index\")\n",
    "plt.axis('tight')\n",
    "plt.title(\"Urban Pop\")\n",
    "plt.xlabel(\"Country\")\n",
    "plt.ylabel(\"Population % of Total\")\n",
    "plt.grid(True)\n",
    "\n",
    "\n"
   ]
  }
 ],
 "metadata": {
  "kernelspec": {
   "display_name": "Python 3",
   "language": "python",
   "name": "python3"
  },
  "language_info": {
   "codemirror_mode": {
    "name": "ipython",
    "version": 3
   },
   "file_extension": ".py",
   "mimetype": "text/x-python",
   "name": "python",
   "nbconvert_exporter": "python",
   "pygments_lexer": "ipython3",
   "version": "3.7.3"
  }
 },
 "nbformat": 4,
 "nbformat_minor": 2
}
